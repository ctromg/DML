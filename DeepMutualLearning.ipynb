{
  "nbformat": 4,
  "nbformat_minor": 0,
  "metadata": {
    "colab": {
      "provenance": [],
      "gpuType": "V100"
    },
    "kernelspec": {
      "name": "python3",
      "display_name": "Python 3"
    },
    "language_info": {
      "name": "python"
    },
    "accelerator": "GPU",
    "gpuClass": "standard"
  },
  "cells": [
    {
      "cell_type": "code",
      "execution_count": null,
      "metadata": {
        "id": "2dD8l0gyiltA"
      },
      "outputs": [],
      "source": [
        "import torch\n",
        "import torchvision\n",
        "import torchvision.transforms as transforms\n",
        "from torchvision.models import resnet34, wide_resnet50_2\n",
        "import torch.nn as nn\n",
        "import torch.nn.functional as F\n",
        "import torch.optim as optim"
      ]
    },
    {
      "cell_type": "code",
      "source": [
        "transform = transforms.Compose(\n",
        "    [transforms.ToTensor(),\n",
        "     transforms.Normalize((0.5, 0.5, 0.5), (0.5, 0.5, 0.5))])\n",
        "\n",
        "batch_size = 4\n",
        "\n",
        "trainset_cifar10 = torchvision.datasets.CIFAR10(root='./data', train=True,\n",
        "                                        download=True, transform=transform)\n",
        "trainloader_cifar10 = torch.utils.data.DataLoader(trainset_cifar10, batch_size=batch_size,\n",
        "                                          shuffle=True, num_workers=2)\n",
        "\n",
        "testset_cifar10 = torchvision.datasets.CIFAR10(root='./data', train=False,\n",
        "                                       download=True, transform=transform)\n",
        "testloader_cifar10 = torch.utils.data.DataLoader(testset_cifar10, batch_size=batch_size,\n",
        "                                         shuffle=False, num_workers=2)\n",
        "\n",
        "classes = ('plane', 'car', 'bird', 'cat',\n",
        "           'deer', 'dog', 'frog', 'horse', 'ship', 'truck')"
      ],
      "metadata": {
        "colab": {
          "base_uri": "https://localhost:8080/"
        },
        "id": "3q2Fp-3Ml7L-",
        "outputId": "cb6bc6e3-9312-4b64-c4a4-97e837937f20"
      },
      "execution_count": null,
      "outputs": [
        {
          "output_type": "stream",
          "name": "stdout",
          "text": [
            "Downloading https://www.cs.toronto.edu/~kriz/cifar-10-python.tar.gz to ./data/cifar-10-python.tar.gz\n"
          ]
        },
        {
          "output_type": "stream",
          "name": "stderr",
          "text": [
            "100%|██████████| 170498071/170498071 [00:05<00:00, 28985345.79it/s]\n"
          ]
        },
        {
          "output_type": "stream",
          "name": "stdout",
          "text": [
            "Extracting ./data/cifar-10-python.tar.gz to ./data\n",
            "Files already downloaded and verified\n"
          ]
        }
      ]
    },
    {
      "cell_type": "code",
      "source": [
        "import matplotlib.pyplot as plt\n",
        "import numpy as np\n",
        "\n",
        "# functions to show an image\n",
        "\n",
        "\n",
        "def imshow(img):\n",
        "    img = img / 2 + 0.5     # unnormalize\n",
        "    npimg = img.numpy()\n",
        "    plt.imshow(np.transpose(npimg, (1, 2, 0)))\n",
        "    plt.show()\n",
        "\n",
        "\n",
        "# get some random training images\n",
        "dataiter = iter(trainloader_cifar10)\n",
        "images, labels = next(dataiter)\n",
        "\n",
        "# show images\n",
        "imshow(torchvision.utils.make_grid(images))\n",
        "# print labels\n",
        "print(' '.join(f'{classes[labels[j]]:5s}' for j in range(batch_size)))"
      ],
      "metadata": {
        "colab": {
          "base_uri": "https://localhost:8080/",
          "height": 210
        },
        "id": "-z5pdHtZl-C-",
        "outputId": "62311cf9-96eb-44bd-a584-cd013a52afde"
      },
      "execution_count": null,
      "outputs": [
        {
          "output_type": "display_data",
          "data": {
            "text/plain": [
              "<Figure size 640x480 with 1 Axes>"
            ],
            "image/png": "[encoded data removed]"
          },
          "metadata": {}
        },
        {
          "output_type": "stream",
          "name": "stdout",
          "text": [
            "deer  dog   bird  frog \n"
          ]
        }
      ]
    },
    {
      "cell_type": "code",
      "source": [
        "# net1 = resnet34(weights=None)\n",
        "# net2 = wide_resnet50_2(weights=None)"
      ],
      "metadata": {
        "id": "0nXIdiHimBiT"
      },
      "execution_count": null,
      "outputs": []
    },
    {
      "cell_type": "code",
      "source": [
        "class BasicBlock(nn.Module):\n",
        "    expansion = 1\n",
        "\n",
        "    def __init__(self, in_planes, planes, stride=1):\n",
        "        super(BasicBlock, self).__init__()\n",
        "        self.conv1 = nn.Conv2d(\n",
        "            in_planes, planes, kernel_size=3, stride=stride, padding=1, bias=False)\n",
        "        self.bn1 = nn.BatchNorm2d(planes)\n",
        "        self.conv2 = nn.Conv2d(planes, planes, kernel_size=3,\n",
        "                               stride=1, padding=1, bias=False)\n",
        "        self.bn2 = nn.BatchNorm2d(planes)\n",
        "\n",
        "        self.shortcut = nn.Sequential()\n",
        "        if stride != 1 or in_planes != self.expansion*planes:\n",
        "            self.shortcut = nn.Sequential(\n",
        "                nn.Conv2d(in_planes, self.expansion*planes,\n",
        "                          kernel_size=1, stride=stride, bias=False),\n",
        "                nn.BatchNorm2d(self.expansion*planes)\n",
        "            )\n",
        "\n",
        "    def forward(self, x):\n",
        "        out = F.relu(self.bn1(self.conv1(x)))\n",
        "        out = self.bn2(self.conv2(out))\n",
        "        out += self.shortcut(x)\n",
        "        out = F.relu(out)\n",
        "        return out\n",
        "\n",
        "\n",
        "class Bottleneck(nn.Module):\n",
        "    expansion = 4\n",
        "\n",
        "    def __init__(self, in_planes, planes, stride=1):\n",
        "        super(Bottleneck, self).__init__()\n",
        "        self.conv1 = nn.Conv2d(in_planes, planes, kernel_size=1, bias=False)\n",
        "        self.bn1 = nn.BatchNorm2d(planes)\n",
        "        self.conv2 = nn.Conv2d(planes, planes, kernel_size=3,\n",
        "                               stride=stride, padding=1, bias=False)\n",
        "        self.bn2 = nn.BatchNorm2d(planes)\n",
        "        self.conv3 = nn.Conv2d(planes, self.expansion *\n",
        "                               planes, kernel_size=1, bias=False)\n",
        "        self.bn3 = nn.BatchNorm2d(self.expansion*planes)\n",
        "\n",
        "        self.shortcut = nn.Sequential()\n",
        "        if stride != 1 or in_planes != self.expansion*planes:\n",
        "            self.shortcut = nn.Sequential(\n",
        "                nn.Conv2d(in_planes, self.expansion*planes,\n",
        "                          kernel_size=1, stride=stride, bias=False),\n",
        "                nn.BatchNorm2d(self.expansion*planes)\n",
        "            )\n",
        "\n",
        "    def forward(self, x):\n",
        "        out = F.relu(self.bn1(self.conv1(x)))\n",
        "        out = F.relu(self.bn2(self.conv2(out)))\n",
        "        out = self.bn3(self.conv3(out))\n",
        "        out += self.shortcut(x)\n",
        "        out = F.relu(out)\n",
        "        return out\n",
        "\n",
        "\n",
        "class ResNet(nn.Module):\n",
        "    def __init__(self, block, num_blocks, num_classes=10):\n",
        "        super(ResNet, self).__init__()\n",
        "        self.in_planes = 64\n",
        "\n",
        "        self.conv1 = nn.Conv2d(3, 64, kernel_size=3,\n",
        "                               stride=1, padding=1, bias=False)\n",
        "        self.bn1 = nn.BatchNorm2d(64)\n",
        "        self.layer1 = self._make_layer(block, 64, num_blocks[0], stride=1)\n",
        "        self.layer2 = self._make_layer(block, 128, num_blocks[1], stride=2)\n",
        "        self.layer3 = self._make_layer(block, 256, num_blocks[2], stride=2)\n",
        "        self.layer4 = self._make_layer(block, 512, num_blocks[3], stride=2)\n",
        "        self.linear = nn.Linear(512*block.expansion, num_classes)\n",
        "\n",
        "    def _make_layer(self, block, planes, num_blocks, stride):\n",
        "        strides = [stride] + [1]*(num_blocks-1)\n",
        "        layers = []\n",
        "        for stride in strides:\n",
        "            layers.append(block(self.in_planes, planes, stride))\n",
        "            self.in_planes = planes * block.expansion\n",
        "        return nn.Sequential(*layers)\n",
        "\n",
        "    def forward(self, x):\n",
        "        out = F.relu(self.bn1(self.conv1(x)))\n",
        "        out = self.layer1(out)\n",
        "        out = self.layer2(out)\n",
        "        out = self.layer3(out)\n",
        "        out = self.layer4(out)\n",
        "        out = F.avg_pool2d(out, 4)\n",
        "        out = out.view(out.size(0), -1)\n",
        "        out = self.linear(out)\n",
        "        return out\n",
        "\n",
        "\n",
        "def ResNet18():\n",
        "    return ResNet(BasicBlock, [2, 2, 2, 2])\n",
        "\n",
        "\n",
        "def ResNet34():\n",
        "    return ResNet(BasicBlock, [3, 4, 6, 3])\n",
        "\n",
        "\n",
        "def ResNet50():\n",
        "    return ResNet(Bottleneck, [3, 4, 6, 3])\n",
        "\n",
        "\n",
        "def ResNet101():\n",
        "    return ResNet(Bottleneck, [3, 4, 23, 3])\n",
        "\n",
        "\n",
        "def ResNet152():\n",
        "    return ResNet(Bottleneck, [3, 8, 36, 3])\n",
        "\n"
      ],
      "metadata": {
        "id": "V8apdRSHCoqM"
      },
      "execution_count": null,
      "outputs": []
    },
    {
      "cell_type": "code",
      "source": [
        "class Block(nn.Module):\n",
        "    '''Depthwise conv + Pointwise conv'''\n",
        "    def __init__(self, in_planes, out_planes, stride=1):\n",
        "        super(Block, self).__init__()\n",
        "        self.conv1 = nn.Conv2d(in_planes, in_planes, kernel_size=3, stride=stride, padding=1, groups=in_planes, bias=False)\n",
        "        self.bn1 = nn.BatchNorm2d(in_planes)\n",
        "        self.conv2 = nn.Conv2d(in_planes, out_planes, kernel_size=1, stride=1, padding=0, bias=False)\n",
        "        self.bn2 = nn.BatchNorm2d(out_planes)\n",
        "\n",
        "    def forward(self, x):\n",
        "        out = F.relu(self.bn1(self.conv1(x)))\n",
        "        out = F.relu(self.bn2(self.conv2(out)))\n",
        "        return out\n",
        "\n",
        "\n",
        "class MobileNet(nn.Module):\n",
        "    # (128,2) means conv planes=128, conv stride=2, by default conv stride=1\n",
        "    cfg = [64, (128,2), 128, (256,2), 256, (512,2), 512, 512, 512, 512, 512, (1024,2), 1024]\n",
        "\n",
        "    def __init__(self, num_classes=10):\n",
        "        super(MobileNet, self).__init__()\n",
        "        self.conv1 = nn.Conv2d(3, 32, kernel_size=3, stride=1, padding=1, bias=False)\n",
        "        self.bn1 = nn.BatchNorm2d(32)\n",
        "        self.layers = self._make_layers(in_planes=32)\n",
        "        self.linear = nn.Linear(1024, num_classes)\n",
        "\n",
        "    def _make_layers(self, in_planes):\n",
        "        layers = []\n",
        "        for x in self.cfg:\n",
        "            out_planes = x if isinstance(x, int) else x[0]\n",
        "            stride = 1 if isinstance(x, int) else x[1]\n",
        "            layers.append(Block(in_planes, out_planes, stride))\n",
        "            in_planes = out_planes\n",
        "        return nn.Sequential(*layers)\n",
        "\n",
        "    def forward(self, x):\n",
        "        out = F.relu(self.bn1(self.conv1(x)))\n",
        "        out = self.layers(out)\n",
        "        out = F.avg_pool2d(out, 2)\n",
        "        out = out.view(out.size(0), -1)\n",
        "        out = self.linear(out)\n",
        "        return out\n",
        "\n",
        "\n",
        "def test():\n",
        "    net = MobileNet()\n",
        "    x = torch.randn(1,3,32,32)\n",
        "    y = net(x)\n",
        "    print(y.size())"
      ],
      "metadata": {
        "id": "sK2lYN5sO0Nx"
      },
      "execution_count": null,
      "outputs": []
    },
    {
      "cell_type": "code",
      "source": [
        "net1 = ResNet34()\n",
        "net2 = MobileNet()"
      ],
      "metadata": {
        "id": "z0OWSNuNCtjs"
      },
      "execution_count": null,
      "outputs": []
    },
    {
      "cell_type": "code",
      "source": [
        "criterion = nn.CrossEntropyLoss()\n",
        "optimizer1 = optim.SGD(net1.parameters(), lr=0.001, momentum=0.9)\n",
        "optimizer2 = optim.SGD(net2.parameters(), lr=0.001, momentum=0.9)"
      ],
      "metadata": {
        "id": "6YaoGKmjmjAE"
      },
      "execution_count": null,
      "outputs": []
    },
    {
      "cell_type": "code",
      "source": [
        "def train_model(trainloader, net, criterion, optimizer, epochs, device):\n",
        "    net.to(device)\n",
        "    print_interval = int(len(trainloader)/5)\n",
        "\n",
        "    for epoch in range(epochs):  # loop over the dataset multiple times\n",
        "        running_loss = 0.0\n",
        "        for i, data in enumerate(trainloader, 0):\n",
        "            # get the inputs; data is a list of [inputs, labels]\n",
        "            inputs, labels = data\n",
        "            inputs, labels = inputs.to(device), labels.to(device)\n",
        "\n",
        "            # zero the parameter gradients\n",
        "            optimizer.zero_grad()\n",
        "\n",
        "            # forward + backward + optimize\n",
        "            outputs = net(inputs)\n",
        "            loss = criterion(outputs, labels)\n",
        "            loss.backward()\n",
        "            optimizer.step()\n",
        "\n",
        "            # print statistics\n",
        "            running_loss += loss.item()\n",
        "            if i % print_interval == print_interval-1:    # print every 2000 mini-batches\n",
        "                print(f'[{epoch + 1}, {i + 1:5d}] loss: {running_loss / 2000:.3f}')\n",
        "                running_loss = 0.0\n",
        "\n",
        "    print('Finished Training')"
      ],
      "metadata": {
        "id": "_C_dXa6hqD7s"
      },
      "execution_count": null,
      "outputs": []
    },
    {
      "cell_type": "code",
      "source": [
        "epochs = 20\n",
        "device = torch.device(\"cuda\" if torch.cuda.is_available() else \"cpu\")\n",
        "print(device)\n",
        "train_model(trainloader_cifar10, net1, criterion, optimizer1, epochs, device)"
      ],
      "metadata": {
        "colab": {
          "base_uri": "https://localhost:8080/"
        },
        "id": "Oa1vm_iKrbrs",
        "outputId": "944d0aaa-f6a1-4cb1-acc4-84da1734a8a9"
      },
      "execution_count": null,
      "outputs": [
        {
          "output_type": "stream",
          "name": "stdout",
          "text": [
            "cuda\n",
            "[1,  2500] loss: 2.491\n",
            "[1,  5000] loss: 1.969\n",
            "[1,  7500] loss: 1.706\n",
            "[1, 10000] loss: 1.493\n",
            "[1, 12500] loss: 1.344\n",
            "[2,  2500] loss: 1.186\n",
            "[2,  5000] loss: 1.145\n",
            "[2,  7500] loss: 1.052\n",
            "[2, 10000] loss: 1.009\n",
            "[2, 12500] loss: 0.954\n",
            "[3,  2500] loss: 0.840\n",
            "[3,  5000] loss: 0.790\n",
            "[3,  7500] loss: 0.808\n",
            "[3, 10000] loss: 0.775\n",
            "[3, 12500] loss: 0.764\n",
            "[4,  2500] loss: 0.625\n",
            "[4,  5000] loss: 0.620\n",
            "[4,  7500] loss: 0.619\n",
            "[4, 10000] loss: 0.602\n",
            "[4, 12500] loss: 0.627\n",
            "[5,  2500] loss: 0.464\n",
            "[5,  5000] loss: 0.497\n",
            "[5,  7500] loss: 0.491\n",
            "[5, 10000] loss: 0.483\n",
            "[5, 12500] loss: 0.511\n",
            "[6,  2500] loss: 0.334\n",
            "[6,  5000] loss: 0.365\n",
            "[6,  7500] loss: 0.395\n",
            "[6, 10000] loss: 0.388\n",
            "[6, 12500] loss: 0.392\n",
            "[7,  2500] loss: 0.256\n",
            "[7,  5000] loss: 0.265\n",
            "[7,  7500] loss: 0.275\n",
            "[7, 10000] loss: 0.308\n",
            "[7, 12500] loss: 0.308\n",
            "[8,  2500] loss: 0.176\n",
            "[8,  5000] loss: 0.216\n",
            "[8,  7500] loss: 0.213\n",
            "[8, 10000] loss: 0.231\n",
            "[8, 12500] loss: 0.241\n",
            "[9,  2500] loss: 0.125\n",
            "[9,  5000] loss: 0.141\n",
            "[9,  7500] loss: 0.164\n",
            "[9, 10000] loss: 0.171\n",
            "[9, 12500] loss: 0.176\n",
            "[10,  2500] loss: 0.102\n",
            "[10,  5000] loss: 0.113\n",
            "[10,  7500] loss: 0.116\n",
            "[10, 10000] loss: 0.121\n",
            "[10, 12500] loss: 0.154\n",
            "[11,  2500] loss: 0.068\n",
            "[11,  5000] loss: 0.083\n",
            "[11,  7500] loss: 0.076\n",
            "[11, 10000] loss: 0.094\n",
            "[11, 12500] loss: 0.117\n",
            "[12,  2500] loss: 0.056\n",
            "[12,  5000] loss: 0.045\n",
            "[12,  7500] loss: 0.057\n",
            "[12, 10000] loss: 0.067\n",
            "[12, 12500] loss: 0.089\n",
            "[13,  2500] loss: 0.060\n",
            "[13,  5000] loss: 0.063\n",
            "[13,  7500] loss: 0.055\n",
            "[13, 10000] loss: 0.067\n",
            "[13, 12500] loss: 0.061\n",
            "[14,  2500] loss: 0.030\n",
            "[14,  5000] loss: 0.040\n",
            "[14,  7500] loss: 0.027\n",
            "[14, 10000] loss: 0.049\n",
            "[14, 12500] loss: 0.044\n",
            "[15,  2500] loss: 0.031\n",
            "[15,  5000] loss: 0.048\n",
            "[15,  7500] loss: 0.049\n",
            "[15, 10000] loss: 0.037\n",
            "[15, 12500] loss: 0.050\n",
            "[16,  2500] loss: 0.029\n",
            "[16,  5000] loss: 0.031\n",
            "[16,  7500] loss: 0.025\n",
            "[16, 10000] loss: 0.028\n",
            "[16, 12500] loss: 0.024\n",
            "[17,  2500] loss: 0.016\n",
            "[17,  5000] loss: 0.017\n",
            "[17,  7500] loss: 0.017\n",
            "[17, 10000] loss: 0.015\n",
            "[17, 12500] loss: 0.027\n",
            "[18,  2500] loss: 0.018\n",
            "[18,  5000] loss: 0.022\n",
            "[18,  7500] loss: 0.016\n",
            "[18, 10000] loss: 0.023\n",
            "[18, 12500] loss: 0.021\n",
            "[19,  2500] loss: 0.017\n",
            "[19,  5000] loss: 0.015\n",
            "[19,  7500] loss: 0.026\n",
            "[19, 10000] loss: 0.023\n",
            "[19, 12500] loss: 0.019\n",
            "[20,  2500] loss: 0.019\n",
            "[20,  5000] loss: 0.017\n",
            "[20,  7500] loss: 0.017\n",
            "[20, 10000] loss: 0.013\n",
            "[20, 12500] loss: 0.009\n",
            "Finished Training\n"
          ]
        }
      ]
    },
    {
      "cell_type": "code",
      "source": [
        "print(device)\n",
        "train_model(trainloader_cifar10, net2, criterion, optimizer2, epochs, device)"
      ],
      "metadata": {
        "colab": {
          "base_uri": "https://localhost:8080/"
        },
        "id": "FM3vp0_HzPAS",
        "outputId": "f94c9a1b-8c7f-4ab0-df10-1971580e4813"
      },
      "execution_count": null,
      "outputs": [
        {
          "output_type": "stream",
          "name": "stdout",
          "text": [
            "cuda\n",
            "[1,  2500] loss: 2.740\n",
            "[1,  5000] loss: 2.462\n",
            "[1,  7500] loss: 2.328\n",
            "[1, 10000] loss: 2.191\n",
            "[1, 12500] loss: 2.119\n",
            "[2,  2500] loss: 2.009\n",
            "[2,  5000] loss: 1.925\n",
            "[2,  7500] loss: 1.829\n",
            "[2, 10000] loss: 1.765\n",
            "[2, 12500] loss: 1.702\n",
            "[3,  2500] loss: 1.590\n",
            "[3,  5000] loss: 1.536\n",
            "[3,  7500] loss: 1.528\n",
            "[3, 10000] loss: 1.425\n",
            "[3, 12500] loss: 1.426\n",
            "[4,  2500] loss: 1.296\n",
            "[4,  5000] loss: 1.333\n",
            "[4,  7500] loss: 1.292\n",
            "[4, 10000] loss: 1.281\n",
            "[4, 12500] loss: 1.218\n",
            "[5,  2500] loss: 1.109\n",
            "[5,  5000] loss: 1.124\n",
            "[5,  7500] loss: 1.134\n",
            "[5, 10000] loss: 1.114\n",
            "[5, 12500] loss: 1.121\n",
            "[6,  2500] loss: 0.965\n",
            "[6,  5000] loss: 0.983\n",
            "[6,  7500] loss: 0.996\n",
            "[6, 10000] loss: 1.020\n",
            "[6, 12500] loss: 1.002\n",
            "[7,  2500] loss: 0.856\n",
            "[7,  5000] loss: 0.880\n",
            "[7,  7500] loss: 0.897\n",
            "[7, 10000] loss: 0.889\n",
            "[7, 12500] loss: 0.912\n",
            "[8,  2500] loss: 0.740\n",
            "[8,  5000] loss: 0.809\n",
            "[8,  7500] loss: 0.807\n",
            "[8, 10000] loss: 0.808\n",
            "[8, 12500] loss: 0.825\n",
            "[9,  2500] loss: 0.641\n",
            "[9,  5000] loss: 0.720\n",
            "[9,  7500] loss: 0.734\n",
            "[9, 10000] loss: 0.737\n",
            "[9, 12500] loss: 0.766\n",
            "[10,  2500] loss: 0.582\n",
            "[10,  5000] loss: 0.646\n",
            "[10,  7500] loss: 0.664\n",
            "[10, 10000] loss: 0.709\n",
            "[10, 12500] loss: 0.687\n",
            "[11,  2500] loss: 0.538\n",
            "[11,  5000] loss: 0.568\n",
            "[11,  7500] loss: 0.619\n",
            "[11, 10000] loss: 0.660\n",
            "[11, 12500] loss: 0.629\n",
            "[12,  2500] loss: 0.482\n",
            "[12,  5000] loss: 0.538\n",
            "[12,  7500] loss: 0.555\n",
            "[12, 10000] loss: 0.599\n",
            "[12, 12500] loss: 0.595\n",
            "[13,  2500] loss: 0.433\n",
            "[13,  5000] loss: 0.485\n",
            "[13,  7500] loss: 0.525\n",
            "[13, 10000] loss: 0.510\n",
            "[13, 12500] loss: 0.536\n",
            "[14,  2500] loss: 0.397\n",
            "[14,  5000] loss: 0.430\n",
            "[14,  7500] loss: 0.458\n",
            "[14, 10000] loss: 0.506\n",
            "[14, 12500] loss: 0.512\n",
            "[15,  2500] loss: 0.354\n",
            "[15,  5000] loss: 0.415\n",
            "[15,  7500] loss: 0.420\n",
            "[15, 10000] loss: 0.446\n",
            "[15, 12500] loss: 0.480\n",
            "[16,  2500] loss: 0.311\n",
            "[16,  5000] loss: 0.363\n",
            "[16,  7500] loss: 0.391\n",
            "[16, 10000] loss: 0.405\n",
            "[16, 12500] loss: 0.433\n",
            "[17,  2500] loss: 0.310\n",
            "[17,  5000] loss: 0.326\n",
            "[17,  7500] loss: 0.341\n",
            "[17, 10000] loss: 0.386\n",
            "[17, 12500] loss: 0.401\n",
            "[18,  2500] loss: 0.260\n",
            "[18,  5000] loss: 0.299\n",
            "[18,  7500] loss: 0.330\n",
            "[18, 10000] loss: 0.342\n",
            "[18, 12500] loss: 0.361\n",
            "[19,  2500] loss: 0.246\n",
            "[19,  5000] loss: 0.270\n",
            "[19,  7500] loss: 0.296\n",
            "[19, 10000] loss: 0.321\n",
            "[19, 12500] loss: 0.339\n",
            "[20,  2500] loss: 0.213\n",
            "[20,  5000] loss: 0.224\n",
            "[20,  7500] loss: 0.277\n",
            "[20, 10000] loss: 0.292\n",
            "[20, 12500] loss: 0.311\n",
            "Finished Training\n"
          ]
        }
      ]
    },
    {
      "cell_type": "code",
      "source": [
        "def test_model(testloader, net, device):\n",
        "\n",
        "    net.to(device)\n",
        "    correct = 0\n",
        "    total = 0\n",
        "    net.eval()\n",
        "\n",
        "    with torch.no_grad():\n",
        "        for data in testloader:\n",
        "            images, labels = data\n",
        "            images, labels = images.to(device), labels.to(device)\n",
        "\n",
        "            outputs = net(images)\n",
        "            \n",
        "            _, predicted = torch.max(outputs.data, 1)\n",
        "            total += labels.size(0)\n",
        "            correct += (predicted == labels).sum().item()\n",
        "\n",
        "    acc = 100 * correct / total \n",
        "    return acc"
      ],
      "metadata": {
        "id": "V_ck4lRPsMjJ"
      },
      "execution_count": null,
      "outputs": []
    },
    {
      "cell_type": "code",
      "source": [
        "test_model(testloader_cifar10, net1, device)"
      ],
      "metadata": {
        "colab": {
          "base_uri": "https://localhost:8080/"
        },
        "id": "E_UmRYUbs78Q",
        "outputId": "2f32efb4-d72b-4084-f77f-25ac3730119c"
      },
      "execution_count": null,
      "outputs": [
        {
          "output_type": "execute_result",
          "data": {
            "text/plain": [
              "85.63"
            ]
          },
          "metadata": {},
          "execution_count": 13
        }
      ]
    },
    {
      "cell_type": "code",
      "source": [
        "test_model(testloader_cifar10, net2, device)"
      ],
      "metadata": {
        "colab": {
          "base_uri": "https://localhost:8080/"
        },
        "id": "fExp-moBzhEv",
        "outputId": "0ed2e772-dd95-4851-9a39-7d8ad794fff0"
      },
      "execution_count": null,
      "outputs": [
        {
          "output_type": "execute_result",
          "data": {
            "text/plain": [
              "75.7"
            ]
          },
          "metadata": {},
          "execution_count": 14
        }
      ]
    },
    {
      "cell_type": "code",
      "source": [
        "def mutual_learning(trainloader, net1, net2, criterion, optimizer1, optimizer2, epochs, device):\n",
        "    net1.to(device)\n",
        "    net2.to(device)\n",
        "    print_interval = int(len(trainloader)/5)\n",
        "    # kl_div = nn.KLDivLoss(reduction=\"sum\")\n",
        "\n",
        "    for epoch in range(epochs):  # loop over the dataset multiple times\n",
        "        running_loss1 = 0.0\n",
        "        running_loss2 = 0.0\n",
        "        for i, data in enumerate(trainloader, 0):\n",
        "            # get the inputs; data is a list of [inputs, labels]\n",
        "            inputs, labels = data\n",
        "            inputs, labels = inputs.to(device), labels.to(device)\n",
        "\n",
        "            # zero the parameter gradients\n",
        "            optimizer1.zero_grad()\n",
        "            optimizer2.zero_grad()\n",
        "\n",
        "            # forward + backward + optimize\n",
        "            outputs1 = net1(inputs)\n",
        "            # print(outputs1)\n",
        "            outputs2 = net2(inputs)\n",
        "            # print(outputs2.shape)\n",
        "            # print(labels.shape)\n",
        "\n",
        "            loss1 = criterion(outputs1, labels) + F.kl_div(F.softmax(outputs1, dim = 1), F.softmax(outputs2, dim = 1), reduction = 'sum') # add the kl term for mutual learning\n",
        "            loss1.backward(retain_graph=True)\n",
        "            optimizer1.step()\n",
        "\n",
        "            loss2 = criterion(outputs2, labels) + F.kl_div(F.softmax(outputs2, dim = 1), F.softmax(outputs1, dim = 1), reduction = 'sum') \n",
        "            loss2.backward()\n",
        "            optimizer2.step()\n",
        "\n",
        "            # print statistics\n",
        "            running_loss1 += loss1.item()\n",
        "            running_loss2 += loss2.item()\n",
        "            if i % print_interval == print_interval-1:    # print every 2000 mini-batches\n",
        "                print(f'[{epoch + 1}, {i + 1:5d}] loss1: {running_loss1 / 2000:.3f}')\n",
        "                print(f'[{epoch + 1}, {i + 1:5d}] loss2: {running_loss2 / 2000:.3f}')\n",
        "                running_loss1 = 0.0\n",
        "                running_loss2 = 0.0\n",
        "\n",
        "    print('Finished Training')"
      ],
      "metadata": {
        "id": "j7nJKwmFxhJ3"
      },
      "execution_count": null,
      "outputs": []
    },
    {
      "cell_type": "code",
      "source": [
        "epochs = 20\n",
        "device = torch.device(\"cuda\" if torch.cuda.is_available() else \"cpu\")\n",
        "net1_mul = ResNet34()\n",
        "net2_mul = MobileNet()\n",
        "print(device)\n",
        "optimizer1_mul = optim.SGD(net1_mul.parameters(), lr=0.001, momentum=0.9)\n",
        "optimizer2_mul = optim.SGD(net2_mul.parameters(), lr=0.001, momentum=0.9)\n",
        "mutual_learning(trainloader_cifar10, net1_mul, net2_mul, criterion, optimizer1_mul, optimizer2_mul, epochs, device)"
      ],
      "metadata": {
        "colab": {
          "base_uri": "https://localhost:8080/"
        },
        "id": "APnXH_QnvVwp",
        "outputId": "50c2f35e-3dc6-42ab-baf1-00eb2546402e"
      },
      "execution_count": null,
      "outputs": [
        {
          "output_type": "stream",
          "name": "stdout",
          "text": [
            "cuda\n",
            "[1,  2500] loss1: -9.206\n",
            "[1,  2500] loss2: -6.125\n",
            "[1,  5000] loss1: -9.665\n",
            "[1,  5000] loss2: -5.217\n",
            "[1,  7500] loss1: -9.891\n",
            "[1,  7500] loss2: -4.448\n"
          ]
        }
      ]
    },
    {
      "cell_type": "code",
      "source": [
        "print('mutual net1')\n",
        "test_model(testloader_cifar10, net1_mul, device)"
      ],
      "metadata": {
        "colab": {
          "base_uri": "https://localhost:8080/"
        },
        "id": "r5-NfqPU1udE",
        "outputId": "37a71a9b-7ca7-491d-aa75-3bd986368534"
      },
      "execution_count": null,
      "outputs": [
        {
          "output_type": "execute_result",
          "data": {
            "text/plain": [
              "85.22"
            ]
          },
          "metadata": {},
          "execution_count": 13
        }
      ]
    },
    {
      "cell_type": "code",
      "source": [
        "print('mutual net2')\n",
        "test_model(testloader_cifar10, net2_mul, device)"
      ],
      "metadata": {
        "colab": {
          "base_uri": "https://localhost:8080/"
        },
        "id": "rlv72D_u2AIa",
        "outputId": "e53674bb-fa51-421a-fbad-c79c7a5fb015"
      },
      "execution_count": null,
      "outputs": [
        {
          "output_type": "execute_result",
          "data": {
            "text/plain": [
              "76.6"
            ]
          },
          "metadata": {},
          "execution_count": 14
        }
      ]
    },
    {
      "cell_type": "code",
      "source": [],
      "metadata": {
        "id": "V6EYBkuJ4rJt"
      },
      "execution_count": null,
      "outputs": []
    }
  ]
}